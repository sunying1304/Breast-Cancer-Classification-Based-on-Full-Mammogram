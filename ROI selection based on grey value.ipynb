{
 "cells": [
  {
   "cell_type": "code",
   "execution_count": null,
   "metadata": {},
   "outputs": [
    {
     "name": "stdout",
     "output_type": "stream",
     "text": [
      "49 150 65 62\n"
     ]
    }
   ],
   "source": [
    "import matplotlib.pyplot as plt\n",
    "import os\n",
    "import numpy as np\n",
    "import cv2\n",
    "\n",
    "img = cv2.imread('/Users/sunying/Desktop/db3/fullimage/train/0+Calc-Training_P_00005_RIGHT_MLO.jpg')\n",
    "img = cv2.resize(img, (150, 300))\n",
    "plt.show()\n",
    "img = cv2.cvtColor(img, cv2.COLOR_BGR2RGB)    \n",
    "img_cpy = img.copy()\n",
    "\n",
    "\n",
    "img_cpy = cv2.cvtColor(img, cv2.COLOR_BGR2HSV)\n",
    "#print(img_cpy)\n",
    "img_cpy[np.where(img_cpy[:,:,2] < 170)] = [0, 0, 0]\n",
    "img_cpy[np.where(img_cpy[:,:,2] >= 170)] = [255, 255, 255]\n",
    "\n",
    "img_cpy = cv2.cvtColor(img_cpy, cv2.COLOR_BGR2GRAY)\n",
    "#print(img_cpy)\n",
    "im2, contours, hierarchy = cv2.findContours(img_cpy,cv2.RETR_TREE,cv2.CHAIN_APPROX_SIMPLE)\n",
    "\n",
    "\n",
    "#cv2.drawContours(img, contours, -1, (0,255,0), 3)\n",
    "m = 0\n",
    "c = 0\n",
    "for i in range(len(contours)):\n",
    "    cnt = contours[i]\n",
    "    area = cv2.contourArea(cnt)\n",
    "    if(m<area):\n",
    "        m = area\n",
    "        c = cnt\n",
    "\n",
    "\n",
    "x,y,w,h = cv2.boundingRect(c)\n",
    "for x in range(0,50):\n",
    "    if y > 100:\n",
    "        continue\n",
    "    else:\n",
    "\n",
    "        x=50\n",
    "        y=150\n",
    "print(x,y,w,h)\n",
    "cv2.rectangle(img,(x,y),(x+w,y+h),(0,255,0),2)   \n",
    "    \n",
    "img = img[y:y+h, x:x+w]    \n",
    "img = cv2.resize(img, (244,244))    \n",
    "cv2.imshow('roi', img_cpy)\n",
    "\n",
    "cv2.imshow('roi', img)\n",
    "cv2.waitKey(0)\n"
   ]
  },
  {
   "cell_type": "code",
   "execution_count": null,
   "metadata": {},
   "outputs": [],
   "source": []
  },
  {
   "cell_type": "code",
   "execution_count": null,
   "metadata": {},
   "outputs": [],
   "source": []
  }
 ],
 "metadata": {
  "kernelspec": {
   "display_name": "Python 3",
   "language": "python",
   "name": "python3"
  },
  "language_info": {
   "codemirror_mode": {
    "name": "ipython",
    "version": 3
   },
   "file_extension": ".py",
   "mimetype": "text/x-python",
   "name": "python",
   "nbconvert_exporter": "python",
   "pygments_lexer": "ipython3",
   "version": "3.6.4"
  }
 },
 "nbformat": 4,
 "nbformat_minor": 2
}
